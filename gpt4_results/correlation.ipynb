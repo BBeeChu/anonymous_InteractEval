{
 "cells": [
  {
   "cell_type": "code",
   "execution_count": 6,
   "metadata": {},
   "outputs": [
    {
     "name": "stdout",
     "output_type": "stream",
     "text": [
      "Human/LLM-based\n",
      "+---------+----------+---------+\n",
      "| Pearson | Spearman | Kendall |\n",
      "+---------+----------+---------+\n",
      "|  0.6728 |  0.6495  |  0.6026 |\n",
      "+---------+----------+---------+\n"
     ]
    }
   ],
   "source": [
    "import sys\n",
    "script_dir = \"../src\"\n",
    "sys.path.append(script_dir)\n",
    "from utils import calculate_correlation, print_correlations, sample_data\n",
    "import pandas as pd\n",
    "import json\n",
    "\n",
    "dimension = \"coherence\"\n",
    "\n",
    "with open(f\"./{dimension}_results.json\", \"rb\") as f:\n",
    "    final_result = json.load(f)\n",
    "\n",
    "pred_scores, human_scores = {}, {}\n",
    "\n",
    "for item in final_result:\n",
    "    doc_id = item[\"doc_id\"]\n",
    "    if (doc_id not in pred_scores):\n",
    "        pred_scores[doc_id] = []\n",
    "        human_scores[doc_id] = []\n",
    "\n",
    "    pred_scores[doc_id].append(item[\"pred_score\"])\n",
    "    human_scores[doc_id].append(item[\"true_score\"])\n",
    "results = {'pearson': 0, 'spearman': 0, 'kendalltau': 0}\n",
    "d_ctr = 0\n",
    "for doc_id in pred_scores:\n",
    "    pred_scores_doc = pred_scores[doc_id]\n",
    "    human_scores_doc = human_scores[doc_id]\n",
    "    if (len(set(human_scores_doc)) <= 1) or (len(set(pred_scores_doc)) <= 1):\n",
    "        continue\n",
    "    results = calculate_correlation(pred_scores_doc, human_scores_doc, results)\n",
    "    d_ctr += 1\n",
    "\n",
    "print(\"Human/LLM-based\")\n",
    "print_correlations(results, n=d_ctr)"
   ]
  }
 ],
 "metadata": {
  "kernelspec": {
   "display_name": "geval",
   "language": "python",
   "name": "python3"
  },
  "language_info": {
   "codemirror_mode": {
    "name": "ipython",
    "version": 3
   },
   "file_extension": ".py",
   "mimetype": "text/x-python",
   "name": "python",
   "nbconvert_exporter": "python",
   "pygments_lexer": "ipython3",
   "version": "3.9.0"
  }
 },
 "nbformat": 4,
 "nbformat_minor": 2
}
